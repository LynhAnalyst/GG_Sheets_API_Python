{
 "cells": [
  {
   "cell_type": "code",
   "execution_count": 1,
   "metadata": {},
   "outputs": [],
   "source": [
    "import gspread\n",
    "from oauth2client.service_account import ServiceAccountCredentials\n",
    "from googleapiclient.discovery import build\n",
    "from googleapiclient.http import MediaFileUpload\n",
    "import pandas as pd\n",
    "import os"
   ]
  },
  {
   "cell_type": "code",
   "execution_count": 2,
   "metadata": {},
   "outputs": [],
   "source": [
    "# Đường dẫn đến tệp JSON credential của bạn\n",
    "credential_path = 'key.json'\n",
    "\n",
    "# Phạm vi (scopes) cho Google Sheets API\n",
    "scope = ['https://spreadsheets.google.com/feeds', 'https://www.googleapis.com/auth/drive']\n",
    "\n",
    "# Xác thực bằng JSON credential và scope\n",
    "credentials = ServiceAccountCredentials.from_json_keyfile_name(credential_path, scope)\n",
    "gc = gspread.authorize(credentials)\n",
    "drive_service = build('drive', 'v3', credentials=credentials)"
   ]
  },
  {
   "cell_type": "code",
   "execution_count": 3,
   "metadata": {},
   "outputs": [
    {
     "name": "stdout",
     "output_type": "stream",
     "text": [
      "Uploaded and converted D:/TTTN/CODE/Google API/DATA UPDATE/data_2024.csv to Google Sheets with ID: 18mpgEWvVVXk0WZcsX_p-xUeZ0w7NjbMoQFjqJCjXBTo\n"
     ]
    },
    {
     "name": "stderr",
     "output_type": "stream",
     "text": [
      "C:\\Users\\fna\\AppData\\Local\\Temp\\ipykernel_3008\\2938849886.py:43: DeprecationWarning: [Deprecated][in version 6.0.0]: Method signature's arguments 'range_name' and 'values' will change their order. We recommend using named arguments for minimal impact. In addition, the argument 'values' will be mandatory of type: 'List[List]'. (ex) Worksheet.update(values = [[]], range_name=) \n",
      "  target_worksheet.update('A1', target_data)\n"
     ]
    },
    {
     "name": "stdout",
     "output_type": "stream",
     "text": [
      "Dữ liệu của năm 2024 đã được thêm vào 1z-eAvFC5g_425HfZJUwUxB6sKLFA7iHiruZN653jYbM\n"
     ]
    }
   ],
   "source": [
    "# Tải file dữ liệu mới lên Google Drive\n",
    "def upload_and_convert_to_gsheet(file_path: str, parents: list = None):\n",
    "    if not os.path.exists(file_path):\n",
    "        print(f'{file_path} not found.')\n",
    "        return None\n",
    "    try:\n",
    "        file_metadata = {\n",
    "            'name': os.path.basename(file_path).replace('.csv', ''),\n",
    "            'mimeType': 'application/vnd.google-apps.spreadsheet',\n",
    "            'parents': parents                                         \n",
    "        }\n",
    "        \n",
    "        media = MediaFileUpload(filename=file_path, mimetype='text/csv')\n",
    "        \n",
    "        response = drive_service.files().create(\n",
    "            media_body=media,\n",
    "            body=file_metadata\n",
    "        ).execute()\n",
    "        \n",
    "        print(f\"Đã tải file {file_path} lên Google Drive với ID: {response['id']}\")\n",
    "        return response['id']\n",
    "    except Exception as e:\n",
    "        print(f\"Lỗi tải file {file_path}: {e}\")\n",
    "        return None\n",
    "\n",
    "# Gộp dữ liệu mới vào Google Sheet tổng hợp\n",
    "def add_new_year_data(file_path, year, target_spreadsheet_id):\n",
    "    file_id = upload_and_convert_to_gsheet(file_path, parents=['1zuHsJ1bFvl2nxlMYvXw_QP8sHbeyeobt'])\n",
    "    if not file_id:\n",
    "        print(f\"Không thể tải file {file_path} lên Google Drive.\")\n",
    "        return\n",
    "    \n",
    "    sheet_name = f'data_{year}'\n",
    "    source_sheet = gc.open_by_key(file_id).sheet1\n",
    "    target_data = source_sheet.get_all_values()\n",
    "\n",
    "    target_sheet = gc.open_by_key(target_spreadsheet_id)\n",
    "    try:\n",
    "        target_worksheet = target_sheet.worksheet(sheet_name)\n",
    "    except gspread.exceptions.WorksheetNotFound:\n",
    "        target_worksheet = target_sheet.add_worksheet(sheet_name, rows=len(target_data), cols=len(target_data[0]))\n",
    "\n",
    "    target_worksheet.update('A1', target_data)\n",
    "    print(f\"Dữ liệu của năm {year} đã được thêm vào {target_spreadsheet_id}\")\n",
    "\n",
    "# ID của file Google Sheets tổng hợp\n",
    "target_spreadsheet_id = '1z-eAvFC5g_425HfZJUwUxB6sKLFA7iHiruZN653jYbM'\n",
    "\n",
    "# Ví dụ thêm dữ liệu của năm 2024\n",
    "add_new_year_data('D:/TTTN/CODE/Google API/Data Update/data_2024.csv', 2024, target_spreadsheet_id)"
   ]
  }
 ],
 "metadata": {
  "kernelspec": {
   "display_name": "Python 3",
   "language": "python",
   "name": "python3"
  },
  "language_info": {
   "codemirror_mode": {
    "name": "ipython",
    "version": 3
   },
   "file_extension": ".py",
   "mimetype": "text/x-python",
   "name": "python",
   "nbconvert_exporter": "python",
   "pygments_lexer": "ipython3",
   "version": "3.8.0"
  }
 },
 "nbformat": 4,
 "nbformat_minor": 2
}
