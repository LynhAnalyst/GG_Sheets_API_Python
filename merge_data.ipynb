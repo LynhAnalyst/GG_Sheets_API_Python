{
 "cells": [
  {
   "cell_type": "code",
   "execution_count": 1,
   "metadata": {},
   "outputs": [],
   "source": [
    "import gspread\n",
    "from google.oauth2.service_account import Credentials\n",
    "from googleapiclient.discovery import build"
   ]
  },
  {
   "cell_type": "code",
   "execution_count": 2,
   "metadata": {},
   "outputs": [],
   "source": [
    "# Đường dẫn đến file json chứa thông tin xác thực\n",
    "credentials_path = 'key.json'\n",
    "\n",
    "# Khởi tạo phiên làm việc với Google Sheets\n",
    "credentials = Credentials.from_service_account_file(credentials_path, scopes=[\n",
    "    'https://spreadsheets.google.com/feeds',\n",
    "    'https://www.googleapis.com/auth/drive',\n",
    "])\n",
    "gc = gspread.authorize(credentials)"
   ]
  },
  {
   "cell_type": "code",
   "execution_count": 3,
   "metadata": {},
   "outputs": [
    {
     "name": "stdout",
     "output_type": "stream",
     "text": [
      "Đã xóa thành công tệp tin khỏi thư mục gốc.\n",
      "Đã thêm tệp tin vào thư mục mới.\n"
     ]
    },
    {
     "name": "stderr",
     "output_type": "stream",
     "text": [
      "C:\\Users\\fna\\AppData\\Local\\Temp\\ipykernel_2560\\152736752.py:44: DeprecationWarning: [Deprecated][in version 6.0.0]: Method signature's arguments 'range_name' and 'values' will change their order. We recommend using named arguments for minimal impact. In addition, the argument 'values' will be mandatory of type: 'List[List]'. (ex) Worksheet.update(values = [[]], range_name=) \n",
      "  target_worksheet.update('A1', target_data)\n"
     ]
    },
    {
     "name": "stdout",
     "output_type": "stream",
     "text": [
      "Dữ liệu đã được gộp thành công https://docs.google.com/spreadsheets/d/1z-eAvFC5g_425HfZJUwUxB6sKLFA7iHiruZN653jYbM\n"
     ]
    }
   ],
   "source": [
    "# Tạo hai thư mục trên Google Drive để chứa dữ liệu trước và sau gộp\n",
    "old_folder_id = '1zuHsJ1bFvl2nxlMYvXw_QP8sHbeyeobt'\n",
    "new_folder_id = '1PrpzFgSwS4eqiyENPWKpeuWcbbXpR4GN'\n",
    "target_sheet_name = 'final_data'\n",
    "target_sheet = gc.create(target_sheet_name)\n",
    "target_sheet_id = target_sheet.id\n",
    "drive_service = build('drive', 'v3', credentials=credentials)\n",
    "\n",
    "# Kiểm tra xem tệp tin có tồn tại ở thư mục gốc không?\n",
    "try:\n",
    "    file_info = drive_service.files().get(fileId=target_sheet_id, fields='parents').execute()\n",
    "except Exception as e:\n",
    "    print(f\"Lỗi khi lấy thông tin tệp tin: {e}\")\n",
    "\n",
    "# Xóa tệp tin từ thư mục gốc nếu nó tồn tại\n",
    "if 'parents' in file_info:\n",
    "    try:\n",
    "        drive_service.files().update(fileId=target_sheet_id, removeParents=old_folder_id).execute()\n",
    "        print(\"Đã xóa thành công tệp tin khỏi thư mục gốc.\")\n",
    "    except Exception as e:\n",
    "        print(f\"Lỗi xóa tệp tin khỏi thư mục gốc: {e}\")\n",
    "else:\n",
    "    print(\"Tệp tin không tồn tại, bỏ qua việc xóa khỏi thư mục gốc.\")\n",
    "\n",
    "# Thêm tệp tin vào thư mục mới\n",
    "try:\n",
    "    drive_service.files().update(fileId=target_sheet_id, addParents=new_folder_id).execute()\n",
    "    print(\"Đã thêm tệp tin vào thư mục mới.\")\n",
    "except Exception as e:\n",
    "    print(f\"Lỗi thêm tệp tin vào thư mục mới: {e}\")\n",
    "\n",
    "# Gộp dữ liệu từ các sheet vào chung một sheet vừa tạo\n",
    "sheet_names = [\"data_2021\", \"data_2022\", \"data_2023\"]\n",
    "\n",
    "for sheet_name in sheet_names:\n",
    "    source_sheet = gc.open(sheet_name).sheet1\n",
    "    target_data = source_sheet.get_all_values()\n",
    "\n",
    "    try:\n",
    "        target_worksheet = target_sheet.worksheet(sheet_name)\n",
    "    except gspread.exceptions.WorksheetNotFound:\n",
    "        target_worksheet = target_sheet.add_worksheet(sheet_name, rows=len(target_data), cols=len(target_data[0]))\n",
    "\n",
    "    target_worksheet.update('A1', target_data)\n",
    "\n",
    "print(f\"Dữ liệu đã được gộp thành công {target_sheet.url}\")"
   ]
  }
 ],
 "metadata": {
  "kernelspec": {
   "display_name": "Python 3",
   "language": "python",
   "name": "python3"
  },
  "language_info": {
   "codemirror_mode": {
    "name": "ipython",
    "version": 3
   },
   "file_extension": ".py",
   "mimetype": "text/x-python",
   "name": "python",
   "nbconvert_exporter": "python",
   "pygments_lexer": "ipython3",
   "version": "3.8.0"
  }
 },
 "nbformat": 4,
 "nbformat_minor": 2
}
