{
 "cells": [
  {
   "cell_type": "markdown",
   "metadata": {},
   "source": [
    "### Import library"
   ]
  },
  {
   "cell_type": "code",
   "execution_count": null,
   "metadata": {},
   "outputs": [],
   "source": [
    "import gspread\n",
    "from google.oauth2.service_account import Credentials\n",
    "from googleapiclient.discovery import build"
   ]
  },
  {
   "cell_type": "markdown",
   "metadata": {},
   "source": [
    "### Connect API"
   ]
  },
  {
   "cell_type": "code",
   "execution_count": null,
   "metadata": {},
   "outputs": [],
   "source": [
    "# Đường dẫn đến file json chứa thông tin xác thực\n",
    "credentials_path = 'key.json'\n",
    "\n",
    "# Khởi tạo phiên làm việc với Google Sheets\n",
    "credentials = Credentials.from_service_account_file(credentials_path, scopes=[\n",
    "    'https://spreadsheets.google.com/feeds',\n",
    "    'https://www.googleapis.com/auth/drive',\n",
    "])\n",
    "gc = gspread.authorize(credentials)"
   ]
  },
  {
   "cell_type": "markdown",
   "metadata": {},
   "source": [
    "### Merge file"
   ]
  },
  {
   "cell_type": "code",
   "execution_count": null,
   "metadata": {},
   "outputs": [],
   "source": [
    "# Google Drive folder ID chứa các Sheets gốc\n",
    "old_parent_folder_id = 'drive_id_old'\n",
    "new_parent_folder_id = 'drive_id_new'\n",
    "\n",
    "# Tên của Sheet chứa dữ liệu sau khi gộp\n",
    "target_sheet_name = 'dulieutonghop' #Tên gg sheet sau khi gộp\n",
    "\n",
    "# Tạo hoặc mở một Sheet mới để chứa dữ liệu gộp\n",
    "target_sheet = gc.create(target_sheet_name)\n",
    "\n",
    "# ID của Sheet mới được tạo\n",
    "target_sheet_id = target_sheet.id\n",
    "\n",
    "# Di chuyển sheet từ thư mục cũ\n",
    "drive_service = build('drive', 'v3', credentials=credentials)\n",
    "\n",
    "# Kiểm tra xem tệp tin có tồn tại không\n",
    "try:\n",
    "    file_info = drive_service.files().get(fileId=target_sheet_id, fields='parents').execute()\n",
    "except Exception as e:\n",
    "    print(f\"Lỗi khi lấy thông tin tệp tin: {e}\")\n",
    "\n",
    "# Xóa tệp tin từ thư mục cha cũ nếu nó tồn tại\n",
    "if 'parents' in file_info:\n",
    "    try:\n",
    "        drive_service.files().update(fileId=target_sheet_id, removeParents=old_parent_folder_id).execute()\n",
    "        print(\"The file has been successfully deleted from the old parent directory.\")\n",
    "    except Exception as e:\n",
    "        print(f\"Error deleting files from old parent directory: {e}\")\n",
    "else:\n",
    "    print(\"The file does not contain the 'parents' field or does not belong to any directory, skip deletion from the old parent directory.\")\n",
    "\n",
    "# Thêm tệp tin vào thư mục cha mới\n",
    "try:\n",
    "    drive_service.files().update(fileId=target_sheet_id, addParents=new_parent_folder_id).execute()\n",
    "    print(\"File added to new parent folder successfully.\")\n",
    "except Exception as e:\n",
    "    print(f\"Error adding file to new parent folder: {e}\")\n",
    "\n",
    "# Merge data from other sheets into the created sheet\n",
    "sheet_names = [\"s1\", \"s2\", \"s3\"] #Tên các sheet\n",
    "\n",
    "for sheet_name in sheet_names:\n",
    "    source_sheet = gc.open(sheet_name).sheet1\n",
    "    target_data = source_sheet.get_all_values()\n",
    "\n",
    "    # Find or create a worksheet in the target_sheet with a name corresponding to source_sheet\n",
    "    try:\n",
    "        target_worksheet = target_sheet.worksheet(sheet_name)\n",
    "    except gspread.exceptions.WorksheetNotFound:\n",
    "        target_worksheet = target_sheet.add_worksheet(sheet_name, rows=len(target_data), cols=len(target_data[0]))\n",
    "\n",
    "    # Update data in the target worksheet\n",
    "    target_worksheet.update('A1', target_data)\n",
    "\n",
    "print(f\"The data has been merged and the worksheet is stored in the specified folder: {target_sheet.url}\")"
   ]
  }
 ],
 "metadata": {
  "kernelspec": {
   "display_name": "Python 3",
   "language": "python",
   "name": "python3"
  },
  "language_info": {
   "codemirror_mode": {
    "name": "ipython",
    "version": 3
   },
   "file_extension": ".py",
   "mimetype": "text/x-python",
   "name": "python",
   "nbconvert_exporter": "python",
   "pygments_lexer": "ipython3",
   "version": "3.8.0"
  }
 },
 "nbformat": 4,
 "nbformat_minor": 2
}
