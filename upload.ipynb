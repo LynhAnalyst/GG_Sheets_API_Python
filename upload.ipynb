{
 "cells": [
  {
   "cell_type": "markdown",
   "metadata": {},
   "source": [
    "### Import library"
   ]
  },
  {
   "cell_type": "code",
   "execution_count": null,
   "metadata": {},
   "outputs": [],
   "source": [
    "from google.oauth2.credentials import Credentials\n",
    "import os\n",
    "import gspread\n",
    "from googleapiclient.discovery import MediaFileUpload\n",
    "from googleapiclient.discovery import build\n",
    "from google.oauth2 import service_account"
   ]
  },
  {
   "cell_type": "markdown",
   "metadata": {},
   "source": [
    "### Connect API"
   ]
  },
  {
   "cell_type": "code",
   "execution_count": null,
   "metadata": {},
   "outputs": [],
   "source": [
    "credentials = service_account.Credentials.from_service_account_file('key.json', scopes=['https://www.googleapis.com/auth/drive'])\n",
    "\n",
    "# Create the Google Drive API client\n",
    "gc = build('drive', 'v3', credentials=credentials)"
   ]
  },
  {
   "cell_type": "markdown",
   "metadata": {},
   "source": [
    "### Upload file"
   ]
  },
  {
   "cell_type": "code",
   "execution_count": null,
   "metadata": {},
   "outputs": [],
   "source": [
    "def export_csv_file(file_path: str, parents: list = None):\n",
    "    if not os.path.exists(file_path):\n",
    "        print(f'{file_path} not found.')\n",
    "        return\n",
    "    try:\n",
    "        file_metadata = {\n",
    "            'name': os.path.basename(file_path).replace('.csv', ''),\n",
    "            'mimeType': 'application/vnd.google-apps.spreadsheet',\n",
    "            'parents': parents                                         \n",
    "        }\n",
    "        \n",
    "        media = MediaFileUpload(filename=file_path, mimetype='text/csv')\n",
    "        \n",
    "        response = gc.files().create(\n",
    "            media_body=media,\n",
    "            body=file_metadata\n",
    "        ).execute()\n",
    "        \n",
    "        print(response)\n",
    "        return response\n",
    "    except Exception as e:\n",
    "        print(e)\n",
    "        return\n",
    "    \n",
    "csv_files = os.listdir('./DATA FOLDER')\n",
    "\n",
    "for csv_file in csv_files:\n",
    "    export_csv_file(os.path.join('DATA FOLDER', csv_file), parents=['drive_id'])"
   ]
  }
 ],
 "metadata": {
  "kernelspec": {
   "display_name": "Python 3",
   "language": "python",
   "name": "python3"
  },
  "language_info": {
   "codemirror_mode": {
    "name": "ipython",
    "version": 3
   },
   "file_extension": ".py",
   "mimetype": "text/x-python",
   "name": "python",
   "nbconvert_exporter": "python",
   "pygments_lexer": "ipython3",
   "version": "3.8.0"
  }
 },
 "nbformat": 4,
 "nbformat_minor": 2
}
