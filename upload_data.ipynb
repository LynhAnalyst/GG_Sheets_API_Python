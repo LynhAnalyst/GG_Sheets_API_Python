{
 "cells": [
  {
   "cell_type": "code",
   "execution_count": 1,
   "metadata": {},
   "outputs": [],
   "source": [
    "from google.oauth2.credentials import Credentials\n",
    "import os\n",
    "import gspread\n",
    "from googleapiclient.discovery import MediaFileUpload\n",
    "from googleapiclient.discovery import build\n",
    "from google.oauth2 import service_account"
   ]
  },
  {
   "cell_type": "code",
   "execution_count": 2,
   "metadata": {},
   "outputs": [],
   "source": [
    "# Xác thực và ủy quyền truy cập vào Google Drive API\n",
    "credentials = service_account.Credentials.from_service_account_file('key.json', scopes=['https://www.googleapis.com/auth/drive'])\n",
    "gc = build('drive', 'v3', credentials=credentials)"
   ]
  },
  {
   "cell_type": "code",
   "execution_count": 3,
   "metadata": {},
   "outputs": [
    {
     "name": "stdout",
     "output_type": "stream",
     "text": [
      "{'kind': 'drive#file', 'id': '1jWbyq9zL1KGXy1FAq8xJB9cY2576McmGw8eykif6PRE', 'name': 'data_2021', 'mimeType': 'application/vnd.google-apps.spreadsheet'}\n",
      "{'kind': 'drive#file', 'id': '1EmGo_n3nVixfrixiy9mWPyHFfPN2636jGjqJgzGG6EM', 'name': 'data_2022', 'mimeType': 'application/vnd.google-apps.spreadsheet'}\n",
      "{'kind': 'drive#file', 'id': '1mmU8tKV2UzKmZPx2JXD-XRigfVaAK42z9c8zx4903dg', 'name': 'data_2023', 'mimeType': 'application/vnd.google-apps.spreadsheet'}\n"
     ]
    }
   ],
   "source": [
    "# Tải file dữ liệu lên Google Drive\n",
    "def export_csv_file(file_path: str, parents: list = None):\n",
    "    if not os.path.exists(file_path):\n",
    "        print(f'{file_path} not found.')\n",
    "        return\n",
    "    try:\n",
    "        file_metadata = {\n",
    "            'name': os.path.basename(file_path).replace('.csv', ''),\n",
    "            'mimeType': 'application/vnd.google-apps.spreadsheet',\n",
    "            'parents': parents                                         \n",
    "        }\n",
    "        \n",
    "        media = MediaFileUpload(filename=file_path, mimetype='text/csv')\n",
    "        \n",
    "        response = gc.files().create(\n",
    "            media_body=media,\n",
    "            body=file_metadata\n",
    "        ).execute()\n",
    "        \n",
    "        print(response)\n",
    "        return response\n",
    "    except Exception as e:\n",
    "        print(e)\n",
    "        return\n",
    "    \n",
    "csv_files = os.listdir('./Data Folder')\n",
    "\n",
    "for csv_file in csv_files:\n",
    "    export_csv_file(os.path.join('Data Folder', csv_file), parents=['1zuHsJ1bFvl2nxlMYvXw_QP8sHbeyeobt']) # ID Google Drive"
   ]
  }
 ],
 "metadata": {
  "kernelspec": {
   "display_name": "Python 3",
   "language": "python",
   "name": "python3"
  },
  "language_info": {
   "codemirror_mode": {
    "name": "ipython",
    "version": 3
   },
   "file_extension": ".py",
   "mimetype": "text/x-python",
   "name": "python",
   "nbconvert_exporter": "python",
   "pygments_lexer": "ipython3",
   "version": "3.8.0"
  }
 },
 "nbformat": 4,
 "nbformat_minor": 2
}
